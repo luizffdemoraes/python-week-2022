{
 "cells": [
  {
   "cell_type": "code",
   "execution_count": null,
   "id": "e7a1b78d",
   "metadata": {},
   "outputs": [],
   "source": [
    "print(1+3)"
   ]
  },
  {
   "cell_type": "code",
   "execution_count": null,
   "id": "3bdbbd6d",
   "metadata": {},
   "outputs": [],
   "source": []
  }
 ],
 "metadata": {
  "kernelspec": {
   "display_name": "Python 3 (ipykernel)",
   "language": "python",
   "name": "python3"
  }
 },
 "nbformat": 4,
 "nbformat_minor": 5
}
